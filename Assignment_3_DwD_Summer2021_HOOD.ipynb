{
  "nbformat": 4,
  "nbformat_minor": 0,
  "metadata": {
    "kernelspec": {
      "display_name": "Python 3",
      "language": "python",
      "name": "python3"
    },
    "language_info": {
      "codemirror_mode": {
        "name": "ipython",
        "version": 3
      },
      "file_extension": ".py",
      "mimetype": "text/x-python",
      "name": "python",
      "nbconvert_exporter": "python",
      "pygments_lexer": "ipython3",
      "version": "3.8.5"
    },
    "colab": {
      "name": "Assignment_3_DwD_Summer2021 (1).ipynb",
      "provenance": [],
      "collapsed_sections": [],
      "include_colab_link": true
    }
  },
  "cells": [
    {
      "cell_type": "markdown",
      "metadata": {
        "id": "view-in-github",
        "colab_type": "text"
      },
      "source": [
        "<a href=\"https://colab.research.google.com/github/CatherineRH/lab-bluemix-cf/blob/master/Assignment_3_DwD_Summer2021_HOOD.ipynb\" target=\"_parent\"><img src=\"https://colab.research.google.com/assets/colab-badge.svg\" alt=\"Open In Colab\"/></a>"
      ]
    },
    {
      "cell_type": "markdown",
      "metadata": {
        "id": "5taOUva5sxvo"
      },
      "source": [
        "# NYPD Crime Reports Dataset\n",
        "\n",
        "You are asked to analyze the dataset with all the valid felony, misdemeanor, and violation crimes reported to the New York City Police Department (NYPD) from 2006 to the end of 2019. \n",
        "\n",
        "The dataset is available at:\n",
        "https://data.cityofnewyork.us/Public-Safety/NYPD-Complaint-Data-Historic/qgea-i56i\n",
        "\n",
        "It is a big dataset with ~7 million crimes reported to NYPD. "
      ]
    },
    {
      "cell_type": "markdown",
      "metadata": {
        "id": "aRhbm_rSsxvq"
      },
      "source": [
        "## Attribute Description\n",
        "\n",
        "Below you can find the description of the attributes, and their datatypes. \n",
        "\n",
        "| Column | Description | Data Type\n",
        "|--------|-------------------|----|\n",
        "| CMPLNT_NUM | Randomly generated persistent ID for each complaint  | bigint(20) |\n",
        "| CMPLNT_FR | Exact datetime of occurrence for the reported event (or starting date of occurrence, if CMPLNT_TO_DT exists) | datetime |\n",
        "| CMPLNT_TO | Ending datetime of occurrence for the reported event, if exact time of occurrence is unknown | datetime\n",
        "| RPT_DT | Date event was reported to police  | date\n",
        "| KY_CD | Three digit offense classification code | char(3)\n",
        "| PD_CD | Three digit internal classification code (more granular than Key Code) | char(3)\n",
        "| JURISDICTION_CODE\t| | smallint(6)\n",
        "| CRM_ATPT_CPTD_CD | Indicator of whether crime was successfully completed or attempted, but failed or was interrupted prematurely | enum('COMPLETED','ATTEMPTED')\n",
        "| LAW_CAT_CD | Level of offense: felony, misdemeanor, violation  | enum('FELONY','MISDEMEANOR','VIOLATION')\n",
        "| BORO_NM | The name of the borough in which the incident occurred | enum('BRONX','BROOKLYN','MANHATTAN','QUEENS','STATEN ISLAND')\n",
        "| ADDR_PCT_CD | The precinct in which the incident occurred | char(3)\n",
        "| LOC_OF_OCCUR_DESC | Specific location of occurrence in or around the premises; inside, opposite of, front of, rear of | enum('FRONT OF','INSIDE','OPPOSITE OF','OUTSIDE','REAR OF')\n",
        "| PATROL_BORO | |\tenum('PATROL BORO BRONX','PATROL BORO BKLYN SOUTH','PATROL BORO BKLYN NORTH','PATROL BORO MAN SOUTH','PATROL BORO MAN NORTH','PATROL BORO QUEENS NORTH','PATROL BORO QUEENS SOUTH','PATROL BORO STATEN ISLAND')\n",
        "| PREM_TYP_DESC | Specific description of premises; grocery store, residence, street, etc. | varchar(80)\n",
        "| SUSP_RACE  | |\t\tenum('UNKNOWN','BLACK','WHITE','WHITE HISPANIC','ASIAN / PACIFIC ISLANDER','BLACK HISPANIC','AMERICAN INDIAN/ALASKAN NATIVE')\n",
        "| VIC_RACE  | |\t\tenum('UNKNOWN','BLACK','WHITE','WHITE HISPANIC','ASIAN / PACIFIC ISLANDER','BLACK HISPANIC','AMERICAN INDIAN/ALASKAN NATIVE')\n",
        "| SUSP_AGE_GROUP  | |\t\tenum('<18','18-24','25-44','45-64','65+')\n",
        "| VIC_AGE_GROUP  | |\t\tenum('<18','18-24','25-44','45-64','65+')\n",
        "| SUSP_SEX  | |\t\tenum('M','F')\n",
        "| VIC_SEX  | |\tenum('M','F','E','D')\n",
        "| Latitude | Latitude coordinate for Global Coordinate System, WGS 1984, decimal degrees (EPSG 4326)  | double\n",
        "| Longitude | Longitude coordinate for Global Coordinate System, WGS 1984, decimal degrees (EPSG 4326) | double\n",
        "\n",
        "\n",
        "### Auxiliary Tables\n",
        "\n",
        "We also have three auxiliary tables `jurisdiction_codes`, `offense_codes`, `penal_codes`, which provide descriptions for the `JURISDICTION_CODE`, `KY_CD`, and `PD_CD` attributes of the main table.\n",
        "\n",
        "\n",
        "\n",
        "\n",
        "Additional Notes: https://www1.nyc.gov/assets/nypd/downloads/pdf/analysis_and_planning/incident_level_data_footnotes.pdf\n",
        "\n"
      ]
    },
    {
      "cell_type": "markdown",
      "metadata": {
        "id": "NHopPsfZsxvr"
      },
      "source": [
        "## MySQL Database\n",
        "\n",
        "For your convenience, the dataset is stored in the `nypd` database on the MySQL Server `db.ipeirotis.org`. You can connect and see the dataset using your standard username and password (`student`, `dwdstudent2015`). "
      ]
    },
    {
      "cell_type": "code",
      "metadata": {
        "id": "qpPdwuh3sxvs"
      },
      "source": [
        "!sudo pip3 install  -U -q geopandas pygeos PyMySQL sqlalchemy sql_magic"
      ],
      "execution_count": null,
      "outputs": []
    },
    {
      "cell_type": "code",
      "metadata": {
        "id": "y2PTCO7hsxvt"
      },
      "source": [
        "%matplotlib inline\n",
        "%config InlineBackend.figure_format = 'retina'\n",
        "\n",
        "import pandas as pd\n",
        "from sqlalchemy import create_engine\n",
        "import geopandas as gpd\n",
        "import seaborn as sns\n",
        "import matplotlib as plt"
      ],
      "execution_count": null,
      "outputs": []
    },
    {
      "cell_type": "code",
      "metadata": {
        "id": "WlYdTJt8sxvt"
      },
      "source": [
        "conn_string = 'mysql+pymysql://{user}:{password}@{host}:{port}/{db}?charset={encoding}'.format(\n",
        "    user='student', \n",
        "    password='dwdstudent2015', \n",
        "    host = 'db.ipeirotis.org', \n",
        "    port=3306, \n",
        "    db='nypd',\n",
        "    encoding = 'utf8'\n",
        ")\n",
        "engine = create_engine(conn_string)"
      ],
      "execution_count": null,
      "outputs": []
    },
    {
      "cell_type": "markdown",
      "metadata": {
        "id": "YKLC-81xsxvt"
      },
      "source": [
        "# Questions\n",
        "\n",
        "You are asked to analyze the dataset and provide answers for the questions below. You can answer the questions using Python, SQL, or a combination of them. "
      ]
    },
    {
      "cell_type": "markdown",
      "metadata": {
        "id": "ahNRAztEsxvu"
      },
      "source": [
        "## Question 1: Composition of crimes\n",
        "\n",
        "* **Question 1a**: How many total reported crimes are in the dataset?\n",
        "* **Question 1b**: Analyze the column `LAW_CAT_CD` and provide the breakdown of the reported crimes among `FELONY`,`MISDEMEANOR`, and `VIOLATION`, i.e., report the number of felonies, misdemeanors, and violations.\n",
        "* **Question 1c**: Across **felonies**, report the number of crimes, broken down by  offense description (as reported in the `OFNS_DESC` column of the `offense_codes` table)"
      ]
    },
    {
      "cell_type": "code",
      "metadata": {
        "id": "CeBVqFcVsxvu"
      },
      "source": [
        "# Question 1a: How many total reported crimes are in the dataset?\n",
        "\n"
      ],
      "execution_count": null,
      "outputs": []
    },
    {
      "cell_type": "code",
      "metadata": {
        "id": "GQLAhaUesxvv"
      },
      "source": [
        "# Question 1b: Analyze the column LAW_CAT_CD and report the number of felonies, misdemeanors, and violations.\n",
        "\n"
      ],
      "execution_count": null,
      "outputs": []
    },
    {
      "cell_type": "code",
      "metadata": {
        "id": "ogXxy5X5sxvv"
      },
      "source": [
        "# Question 1c: Across felonies, report the number of crimes, broken down by offense description (as reported in the OFNS_DESC column)\n",
        "\n"
      ],
      "execution_count": null,
      "outputs": []
    },
    {
      "cell_type": "markdown",
      "metadata": {
        "id": "azTQvYiAsxvv"
      },
      "source": [
        "## Question 2: Is crime increasing or decreasing in NYC?\n",
        "\n",
        "Use the column `CMPLNT_FR` that reports the date/time of the crime. You are asked to analyze the crimes that happened between January 1st 2006 and December 31st 2019. \n",
        "\n",
        "* **Question 2a**: Create a plot that shows the *total* number of **all** reported crimes *per month*.\n",
        "* **Question 2b**: Create a plot that shows the *total* number of **all** reported crimes *per year*.\n",
        "* **Question 2c**: Create a plot that shows the *total* number of reported **felonies** *per month*.\n",
        "* **Question 2d**: Create a plot that shows the *total* number of reported **felonies** *per year*.\n",
        "\n",
        "**Hint 1**: Be aware that comparisons with dates in MySQL are tricky. You will want to use the format `2006-01-01` for a date, so that it gets properly interpreted by MySQL.\n",
        "\n",
        "**Hint 2**: You can use the `MONTH()` and `YEAR()` commands in SQL, or the  `resample` command in Pandas, to compute statistics on a per-month and per-year basis. If you use resample, understand the difference between `resample(...).sum()` and `resample(...).mean()`. The `mean()` vs `sum()` can generate very different results, especially when the timestamp variable has a very fine granularity (as happens in our case with `CMPLNT_FR`)."
      ]
    },
    {
      "cell_type": "code",
      "metadata": {
        "id": "dqhCVYOasxvw"
      },
      "source": [
        "# Question 2a: Create a plot that shows the total number of all reported crimes per month.\n"
      ],
      "execution_count": null,
      "outputs": []
    },
    {
      "cell_type": "code",
      "metadata": {
        "id": "vbs7ROBksxvw"
      },
      "source": [
        "# Question 2b: Create a plot that shows the total number of all reported crimes per year.\n"
      ],
      "execution_count": null,
      "outputs": []
    },
    {
      "cell_type": "code",
      "metadata": {
        "id": "U1QfTneGsxvw"
      },
      "source": [
        "# Question 2c: Create a plot that shows the total number of reported felonies per month.\n"
      ],
      "execution_count": null,
      "outputs": []
    },
    {
      "cell_type": "code",
      "metadata": {
        "id": "NfR6SvYhsxvx"
      },
      "source": [
        "# Question 2d: Create a plot that shows the total number of reported felonies per year."
      ],
      "execution_count": null,
      "outputs": []
    },
    {
      "cell_type": "markdown",
      "metadata": {
        "id": "LV4PY3pQsxvx"
      },
      "source": [
        "## Question 3: Analysis of the \"Big-7\" felonies\n",
        "\n",
        "The NYPD calls the following types of felonies as the \"big-7\" crimes, as they tend to affect most the quality of life:\n",
        "\n",
        "* GRAND LARCENY \n",
        "* ROBBERY \n",
        "* FELONY ASSAULT \n",
        "* BURGLARY \n",
        "* GRAND LARCENY OF MOTOR VEHICLE \n",
        "* RAPE \n",
        "* MURDER & NON-NEGL. MANSLAUGHTER \n",
        "\n",
        "\n",
        "Focus on the big-7 felonies. Report the number of these crimes over time, from 2006 till 2019, **broken down by type of felony**. Focus on reporting the **total** number of crimes per category, on a **per month** and on **per year** basis. Generate the associated plot.\n",
        "\n",
        "**Hint 1**: The type of felony is included in the `OFNS_DESC` column of the `offense_codes` table and the key for the offense is the `KY_CD` attribute in the main table. You can use the `IN` command in SQL to limit your results to these offenses, or use an `OR` clause. Alternatively, you can use the [`.isin()`](https://pandas.pydata.org/pandas-docs/stable/generated/pandas.DataFrame.isin.html) command in Pandas.\n",
        "\n",
        "**Hint 2**: If you would like to move the legend outside the plot, you can use the following command: `df.plot(...).legend(bbox_to_anchor=(1, 0.75))`. The two values for the parameter `bbox_to_anchor` describe the x/y location of the legend, compared to the plot. Experiment with different values to understand the effect.\n"
      ]
    },
    {
      "cell_type": "code",
      "metadata": {
        "id": "W-8wMluFsxvy"
      },
      "source": [
        ""
      ],
      "execution_count": null,
      "outputs": []
    },
    {
      "cell_type": "markdown",
      "metadata": {
        "id": "N1kZ-QPjsxvz"
      },
      "source": [
        "## Question 4: Analyze the Big-7 felonies based on hour of the day.\n",
        "\n",
        "You are now asked to break down the different big-7 felonies hour of day.\n",
        "\n",
        "* **Question 4a**: Show the number of big-7 felonies, broken down by hour of day. (e.g., _6049 reported robberies at 5am_). Generate a bar plot with the results. Generate a bar plot with the results.\n",
        "\n",
        "* **Question 4b**: Show the number of big-7 felonies, broken down by hour of day. To allow for easier comparison among felonies, **normalize** the data by dividing by the total incidents for each type of felony.  (e.g., _2.8% of the reported robberies happen at 5am_). Generate a bar plot with the results.\n",
        "\n",
        "\n",
        "**Hint 1**: If you have a datetime column in your dataframe (say `df.CMPLNT_FR`), you can extract the day of the week and the hour, using the following commands. These commands will create two new columns, `DAY_OF_WEEK` and `HOUR`. The `DAY_OF_WEEK` is encoded as a *ordered* categorical variable, in order to sort properly. The `HOUR` is a numeric variable. \n",
        "\n",
        "```python\n",
        "    categs = ['Monday', 'Tuesday', 'Wednesday', 'Thursday', 'Friday', 'Saturday', 'Sunday']\n",
        "    df['DAY_OF_WEEK'] = pd.Categorical(df.CMPLNT_FR.dt.day_name(), categories = categs, ordered=True)\n",
        "    df['HOUR'] = df.CMPLNT_FR.dt.hour\n",
        "```\n",
        "\n",
        "Alternatively, you can use the commands `HOUR()` and `DAYOFWEEK()` in SQL, to extract these values.\n",
        "\n",
        "**Hint 2**: When creating plots, you may prefer to put the plot for each columns of the dataframe in a separate plot. The option `subplots=True` for the `df.plot()` command provides that capability. (See [the related documentation](https://pandas.pydata.org/pandas-docs/stable/visualization.html#subplots).) If you use the `subplots=True`, you can also use the `layout=(num_rows, num_columns)` option to specify the number of rows (`num_rows`) and the number of columns (`num_columns`) to use for the grid arrangement.\n",
        "\n",
        "**Hint 3**: The normalizing data and when generating plots, you may find the `.T` command very handy (shorthand for `.transpose()`). The `.T` command returns the transpose of the dataframe, i.e., returns a dataframe where the columns become rows and vice versa."
      ]
    },
    {
      "cell_type": "code",
      "metadata": {
        "id": "z-NDjSlGsxvz"
      },
      "source": [
        ""
      ],
      "execution_count": null,
      "outputs": []
    },
    {
      "cell_type": "markdown",
      "metadata": {
        "id": "A_MgSoSwsxv0"
      },
      "source": [
        "## Question 5: Spatial Analysis\n",
        "\n",
        "You are asked to analyze the spatial density for the following types of felonies:\n",
        "\n",
        "* GRAND LARCENY\n",
        "* ROBBERY\n",
        "* FELONY ASSAULT\n",
        "* BURGLARY\n",
        "* GRAND LARCENY OF MOTOR VEHICLE\n",
        "\n",
        "Use the `Latitude` and `Longitude` variables from the dataset to identify the location of each crime. (FYI, for victim privacy, the reported rapes and murders do not have geocoding variables associated with them.) Limit your analysis to Manhattan only (see the `BORO_NM` attribute), felonies, and to dates between 2006 and 2019 (inclusive on both ends). **Remove data points that do not have values in the Longitude and Latitude columns**.\n",
        "\n",
        "**Hint 1**: Remember that if you do a 2d density estimation, you can speed up the computation by taking just a sample of the data that you analyze using the `dataframe.sample()` command.\n",
        "\n",
        "**Hint 2**: If you could like to plot a map of Manhttan under your density plot, you can use the shapefile of NYC neighborhoods from NYC Open Data, and keep only Manhattan neighborhoods. See the code below. "
      ]
    },
    {
      "cell_type": "code",
      "metadata": {
        "id": "T7JtODMEsxv0"
      },
      "source": [
        "# Dataset from NYC Open Data: https://data.cityofnewyork.us/City-Government/Neighborhood-Tabulation-Areas/cpf4-rkhq\n",
        "!curl 'https://data.cityofnewyork.us/api/geospatial/cpf4-rkhq?method=export&format=GeoJSON' -o nyc-neighborhoods.geojson"
      ],
      "execution_count": null,
      "outputs": []
    },
    {
      "cell_type": "code",
      "metadata": {
        "id": "bPTlw4E_sxv0"
      },
      "source": [
        "# Load the shapefile\n",
        "df_nyc = gpd.GeoDataFrame.from_file('nyc-neighborhoods.geojson')\n",
        "# Limit the data to only Manhattan neighborhoods \n",
        "df_manhattan = df_nyc[df_nyc.boro_name =='Manhattan']\n",
        "# Create a plot\n",
        "manhattan_plot = df_manhattan.plot(linewidth=0.5, color='White', edgecolor='Black', figsize=(15, 10))"
      ],
      "execution_count": null,
      "outputs": []
    },
    {
      "cell_type": "code",
      "metadata": {
        "id": "sw_M8bh-unIS"
      },
      "source": [
        "# Example for data cleaning and removal of data points outside the area\n",
        "# of interest.\n",
        "\n",
        "# We create a simple dataframe with Lat/Lon data\n",
        "data = pd.DataFrame([\n",
        "  {\"Longitude\": -74 , \"Latitude\":  40.750},\n",
        "  {\"Longitude\": -73.98 , \"Latitude\":  40.750},\n",
        "  {\"Longitude\": -73.96 , \"Latitude\":  40.750},\n",
        "  {\"Longitude\": -73.94 , \"Latitude\":  40.750},\n",
        "  {\"Longitude\": -73.92 , \"Latitude\":  40.750},\n",
        "  {\"Longitude\": -74 , \"Latitude\":  40.775},\n",
        "  {\"Longitude\": -73.98 , \"Latitude\":  40.775},\n",
        "  {\"Longitude\": -73.96 , \"Latitude\":  40.775},\n",
        "  {\"Longitude\": -73.94 , \"Latitude\":  40.775},\n",
        "  {\"Longitude\": -73.92 , \"Latitude\":  40.775},  \n",
        "])\n",
        "data\n",
        "\n",
        "# Plot these data points on top of Manhattan\n",
        "manhattan_plot = df_manhattan.plot(linewidth=0.5, color='White', edgecolor='Black', figsize=(15, 10))\n",
        "data.plot.scatter(x=\"Longitude\", y=\"Latitude\", ax = manhattan_plot, c='red', marker='x', s=30)"
      ],
      "execution_count": null,
      "outputs": []
    },
    {
      "cell_type": "code",
      "metadata": {
        "id": "Oj2qzx2Vsxv1"
      },
      "source": [
        "# The code below gets as input a dataframe called \"data\" and removes the data\n",
        "# points outside Manhattan, using the \"sjoin\" (spatial join) command\n",
        "manhattan_plot = df_manhattan.plot(linewidth=0.5, color='White', edgecolor='Black', figsize=(15, 10))\n",
        "# Create a GeoDataFrame from the raw dataframe with Lon/Lat info\n",
        "sample_gdf = gpd.GeoDataFrame(data, geometry=gpd.points_from_xy(data.Longitude, data.Latitude))\n",
        "# Perform a \"spatial inner join\" between the points dataframe and the neighborhoods\n",
        "# The inner join will eliminate data points not matching a neighborhood\n",
        "sample_gdf.crs = df_manhattan.crs\n",
        "sample = gpd.sjoin(df_manhattan, sample_gdf, how=\"inner\")\n",
        "\n",
        "sample.plot.scatter(x=\"Longitude\", y=\"Latitude\", ax = manhattan_plot, c='red', marker='x', s=30)"
      ],
      "execution_count": null,
      "outputs": []
    }
  ]
}