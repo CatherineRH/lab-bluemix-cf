{
  "nbformat": 4,
  "nbformat_minor": 0,
  "metadata": {
    "kernelspec": {
      "display_name": "Python 3",
      "language": "python",
      "name": "python3"
    },
    "language_info": {
      "codemirror_mode": {
        "name": "ipython",
        "version": 3
      },
      "file_extension": ".py",
      "mimetype": "text/x-python",
      "name": "python",
      "nbconvert_exporter": "python",
      "pygments_lexer": "ipython3",
      "version": "3.6.7"
    },
    "colab": {
      "name": "B2-IBM_Watson_Natural_Language_API.ipynb",
      "provenance": [],
      "include_colab_link": true
    }
  },
  "cells": [
    {
      "cell_type": "markdown",
      "metadata": {
        "id": "view-in-github",
        "colab_type": "text"
      },
      "source": [
        "<a href=\"https://colab.research.google.com/github/CatherineRH/lab-bluemix-cf/blob/master/04-WebAPIs/B2-IBM_Watson_Natural_Language_API.ipynb\" target=\"_parent\"><img src=\"https://colab.research.google.com/assets/colab-badge.svg\" alt=\"Open In Colab\"/></a>"
      ]
    },
    {
      "cell_type": "markdown",
      "metadata": {
        "id": "YpOyKprkg78J"
      },
      "source": [
        "# Interacting with the IBM Watson Natural Language Understanding API; POST vs GET\n",
        "\n",
        "Another useful API, especially when dealing with text, is the [IBM Watson  Natural Language Understanding API](https://console.bluemix.net/catalog/services/natural-language-understanding), which offers a variety of text analysis functionalities, such as sentiment analysis, entity extraction, keyword extraction, etc.\n",
        "\n",
        "We will give a couple of examples below, to understand how we can take an unstructured piece of text (either the text alone, or a URL with text), and extract some \"semi-structured\" representation of its content.\n",
        "\n",
        "\n",
        "\n",
        "## /analyze call\n",
        "\n",
        "We will first start with the `GET /analyze` API call ([documentation](https://www.ibm.com/watson/developercloud/natural-language-understanding/api/v1/#get-analyze)), which takes as input a piece of text, and returns an analysis across various dimensions.\n",
        "\n",
        "The call below gets as input a \"text\" variable, and returns back the sentiment of the text."
      ]
    },
    {
      "cell_type": "code",
      "metadata": {
        "id": "Scpvaji2MigH"
      },
      "source": [
        "import requests\n",
        "import json\n",
        "\n",
        "# My own API key. It may run out of quota\n",
        "# You can register and get your own credentials\n",
        "# The ones below have a quota of 1000 calls per day \n",
        "# and can run out quickly if multiple people use these\n",
        "API_KEY = 'yx39wyiwPNGm7DoDUPCSJB4SzFkr0qurARfbGYyEdaoC'\n",
        "\n",
        "URL = 'https://api.us-south.natural-language-understanding.watson.cloud.ibm.com/instances/9e683088-0d12-4399-8118-518f3e60e8c4'"
      ],
      "execution_count": 1,
      "outputs": []
    },
    {
      "cell_type": "code",
      "metadata": {
        "id": "6o4aBLeBg78M"
      },
      "source": [
        "def getSentiment(text):\n",
        "    endpoint = f\"{URL}/v1/analyze\"\n",
        "    username = \"apikey\"\n",
        "    password = API_KEY\n",
        "    \n",
        "    parameters = {\n",
        "        'features': 'emotion,sentiment',\n",
        "        'version' : '2020-08-01',\n",
        "        'text': text,\n",
        "        'language' : 'en',\n",
        "        # url = url_to_analyze, this is an alternative to sending the text\n",
        "    }\n",
        "\n",
        "    resp = requests.get(endpoint, params=parameters, auth=(username, password))\n",
        "    \n",
        "    return resp.json()"
      ],
      "execution_count": 2,
      "outputs": []
    },
    {
      "cell_type": "code",
      "metadata": {
        "id": "HCGGi4Sug78U"
      },
      "source": [
        "# We will analyze the text below using the IBM Watson API\n",
        "\n",
        "text = '''\n",
        "I got their Egg & Cheese sandwich on a Whole Wheat Everything Bagel. \n",
        "First off, I loved loved loved the texture of the bagel itself. \n",
        "It was very chewy yet soft, which is a top feature for a NY style bagel. \n",
        "However, I thought there could've been more seasoning on top of \n",
        "the bagel as I found the bagel itself to be a bit bland. \n",
        "\n",
        "Speaking of bland, I thought the egg and cheese filling were also quite bland. \n",
        "This was definitely lacking salt and pepper in the eggs and the cheese didn't\n",
        "really add too much flavor either, which was really disappointing! \n",
        "My mom also had the same complaint with her bagel sandwich \n",
        "(she had the egg sandwich on a blueberry bagel) so I definitely wasn't \n",
        "the only one.\n",
        "\n",
        "'''"
      ],
      "execution_count": 3,
      "outputs": []
    },
    {
      "cell_type": "code",
      "metadata": {
        "id": "RRYAW9WHg78Y",
        "outputId": "d0042456-574a-442a-d9bd-d75c4bbb89ca",
        "colab": {
          "base_uri": "https://localhost:8080/"
        }
      },
      "source": [
        "data = getSentiment(text)\n",
        "data"
      ],
      "execution_count": 9,
      "outputs": [
        {
          "output_type": "execute_result",
          "data": {
            "text/plain": [
              "{'emotion': {'document': {'emotion': {'anger': 0.104206,\n",
              "    'disgust': 0.152643,\n",
              "    'fear': 0.068719,\n",
              "    'joy': 0.621954,\n",
              "    'sadness': 0.484095}}},\n",
              " 'language': 'en',\n",
              " 'sentiment': {'document': {'label': 'negative', 'score': -0.600662}},\n",
              " 'usage': {'features': 2, 'text_characters': 707, 'text_units': 1}}"
            ]
          },
          "metadata": {
            "tags": []
          },
          "execution_count": 9
        }
      ]
    },
    {
      "cell_type": "markdown",
      "metadata": {
        "id": "HofZ85yFg78c"
      },
      "source": [
        "Now, let's try to understand the structure of the answer. First, we check the high-level keys."
      ]
    },
    {
      "cell_type": "code",
      "metadata": {
        "id": "nD3qoCmMg78d",
        "outputId": "2ad9bd89-d3ea-43e0-bffe-3a0422cd9b7a",
        "colab": {
          "base_uri": "https://localhost:8080/"
        }
      },
      "source": [
        "data.keys()"
      ],
      "execution_count": 5,
      "outputs": [
        {
          "output_type": "execute_result",
          "data": {
            "text/plain": [
              "dict_keys(['usage', 'sentiment', 'language', 'emotion'])"
            ]
          },
          "metadata": {
            "tags": []
          },
          "execution_count": 5
        }
      ]
    },
    {
      "cell_type": "markdown",
      "metadata": {
        "id": "itoPJcaNg78h"
      },
      "source": [
        "Now, let's check the content of these keys:"
      ]
    },
    {
      "cell_type": "code",
      "metadata": {
        "id": "0ewzjsNHg78i",
        "outputId": "5b0bbe37-349c-4768-8536-02e94215cbcb",
        "colab": {
          "base_uri": "https://localhost:8080/",
          "height": 35
        }
      },
      "source": [
        "data['language']"
      ],
      "execution_count": 10,
      "outputs": [
        {
          "output_type": "execute_result",
          "data": {
            "application/vnd.google.colaboratory.intrinsic+json": {
              "type": "string"
            },
            "text/plain": [
              "'en'"
            ]
          },
          "metadata": {
            "tags": []
          },
          "execution_count": 10
        }
      ]
    },
    {
      "cell_type": "code",
      "metadata": {
        "id": "wEMFHA_mg78n",
        "outputId": "28a41d0c-61e7-4de5-d486-964eb52da616",
        "colab": {
          "base_uri": "https://localhost:8080/"
        }
      },
      "source": [
        "data['sentiment']"
      ],
      "execution_count": 11,
      "outputs": [
        {
          "output_type": "execute_result",
          "data": {
            "text/plain": [
              "{'document': {'label': 'negative', 'score': -0.600662}}"
            ]
          },
          "metadata": {
            "tags": []
          },
          "execution_count": 11
        }
      ]
    },
    {
      "cell_type": "code",
      "metadata": {
        "id": "_UO7k-scg78r",
        "outputId": "5a007f0d-f392-40f9-a063-727d493404a2",
        "colab": {
          "base_uri": "https://localhost:8080/"
        }
      },
      "source": [
        "data['emotion']"
      ],
      "execution_count": 13,
      "outputs": [
        {
          "output_type": "execute_result",
          "data": {
            "text/plain": [
              "{'document': {'emotion': {'anger': 0.104206,\n",
              "   'disgust': 0.152643,\n",
              "   'fear': 0.068719,\n",
              "   'joy': 0.621954,\n",
              "   'sadness': 0.484095}}}"
            ]
          },
          "metadata": {
            "tags": []
          },
          "execution_count": 13
        }
      ]
    },
    {
      "cell_type": "code",
      "metadata": {
        "id": "sdBxICpHg78w",
        "outputId": "3ba2f303-9051-405b-e2ec-e845c378320e",
        "colab": {
          "base_uri": "https://localhost:8080/"
        }
      },
      "source": [
        "# Let's go deeper into the 'emotion' dictionary\n",
        "data['emotion']['document']"
      ],
      "execution_count": 14,
      "outputs": [
        {
          "output_type": "execute_result",
          "data": {
            "text/plain": [
              "{'emotion': {'anger': 0.104206,\n",
              "  'disgust': 0.152643,\n",
              "  'fear': 0.068719,\n",
              "  'joy': 0.621954,\n",
              "  'sadness': 0.484095}}"
            ]
          },
          "metadata": {
            "tags": []
          },
          "execution_count": 14
        }
      ]
    },
    {
      "cell_type": "code",
      "metadata": {
        "id": "T-A1ZJFyg780",
        "outputId": "431c2df0-930b-4194-ec34-9f10840ebd3a",
        "colab": {
          "base_uri": "https://localhost:8080/"
        }
      },
      "source": [
        "# And a bit more\n",
        "data['emotion']['document']['emotion']"
      ],
      "execution_count": 12,
      "outputs": [
        {
          "output_type": "execute_result",
          "data": {
            "text/plain": [
              "{'anger': 0.104206,\n",
              " 'disgust': 0.152643,\n",
              " 'fear': 0.068719,\n",
              " 'joy': 0.621954,\n",
              " 'sadness': 0.484095}"
            ]
          },
          "metadata": {
            "tags": []
          },
          "execution_count": 12
        }
      ]
    },
    {
      "cell_type": "markdown",
      "metadata": {
        "id": "19-vgKPag785"
      },
      "source": [
        "### Exercise 1\n",
        "\n",
        "Type your own piece of text, and analyze it to extract sentiment and emotions. Discuss your findings"
      ]
    },
    {
      "cell_type": "code",
      "metadata": {
        "id": "AO2SHOE7g786",
        "outputId": "993240e9-7540-40cf-e9cf-fd3c37257d76",
        "colab": {
          "base_uri": "https://localhost:8080/"
        }
      },
      "source": [
        "my_own_text = '''\n",
        "hay tres personas en la casa\n",
        "'''\n",
        "\n",
        "getSentiment( my_own_text )"
      ],
      "execution_count": 21,
      "outputs": [
        {
          "output_type": "execute_result",
          "data": {
            "text/plain": [
              "{'emotion': {'document': {'emotion': {'anger': 0.070419,\n",
              "    'disgust': 0.060195,\n",
              "    'fear': 0.088872,\n",
              "    'joy': 0.186961,\n",
              "    'sadness': 0.151755}}},\n",
              " 'language': 'en',\n",
              " 'sentiment': {'document': {'label': 'neutral', 'score': 0}},\n",
              " 'usage': {'features': 2, 'text_characters': 30, 'text_units': 1}}"
            ]
          },
          "metadata": {
            "tags": []
          },
          "execution_count": 21
        }
      ]
    },
    {
      "cell_type": "markdown",
      "metadata": {
        "id": "vxKeCado_5EU"
      },
      "source": [
        "### Exercise 2\n",
        "\n",
        "Below is a slightly modified function, which takes as input a URL to analyze, instead of a piece of text. Use it to analyze a URL of your choice"
      ]
    },
    {
      "cell_type": "code",
      "metadata": {
        "id": "Wvlvs-tY_nck"
      },
      "source": [
        "def getSentiment_url(url_to_analyze):\n",
        "    endpoint = f\"{URL}/v1/analyze\"\n",
        "    username = \"apikey\"\n",
        "    password = API_KEY\n",
        "    \n",
        "    parameters = {\n",
        "        'features': 'emotion,sentiment',\n",
        "        'version' : '2020-08-01',\n",
        "        #'text': text,\n",
        "        'language' : 'en',\n",
        "        'url': url_to_analyze # this is an alternative to sending the text\n",
        "    }\n",
        "\n",
        "    resp = requests.get(endpoint, params=parameters, auth=(username, password))\n",
        "    \n",
        "    return resp.json()"
      ],
      "execution_count": 22,
      "outputs": []
    },
    {
      "cell_type": "code",
      "metadata": {
        "id": "tSiHLtpWADP-",
        "outputId": "544a0736-b040-4f36-89df-872395e5ffe9",
        "colab": {
          "base_uri": "https://localhost:8080/"
        }
      },
      "source": [
        "url = 'https://www.espn.com/nba/story/_/id/31649049/atlanta-hawks-erase-26-point-deficit-defeat-philadelphia-76ers-take-3-2-series-lead'\n",
        "getSentiment_url(url)"
      ],
      "execution_count": 23,
      "outputs": [
        {
          "output_type": "execute_result",
          "data": {
            "text/plain": [
              "{'emotion': {'document': {'emotion': {'anger': 0.167777,\n",
              "    'disgust': 0.096591,\n",
              "    'fear': 0.122267,\n",
              "    'joy': 0.521858,\n",
              "    'sadness': 0.544696}}},\n",
              " 'language': 'en',\n",
              " 'retrieved_url': 'https://www.espn.com/nba/story/_/id/31649049/atlanta-hawks-erase-26-point-deficit-defeat-philadelphia-76ers-take-3-2-series-lead',\n",
              " 'sentiment': {'document': {'label': 'negative', 'score': -0.26043}},\n",
              " 'usage': {'features': 2, 'text_characters': 6507, 'text_units': 1}}"
            ]
          },
          "metadata": {
            "tags": []
          },
          "execution_count": 23
        }
      ]
    },
    {
      "cell_type": "markdown",
      "metadata": {
        "id": "oFIwBAw9g789"
      },
      "source": [
        "## Entities call\n",
        "\n",
        "[Full Documentation of the call](https://www.ibm.com/watson/developercloud/natural-language-understanding/api/v1/#entities)\n",
        "\n",
        "This is a an API call that extracts entities from the text, and also the sentiment and emotion for each of these entities.\n",
        "\n",
        "There are two new technical aspects with this API. First of all, we use the command `requests.post` as opposed to `requests.get`. This happens because `GET` is designed to handle limited amount of data. When we have a large volume of data to send as parameters, then the HTTP protocol requires the use of the `POST` command. You will also see that the parameters that we pass are not \"flat\" as they used to be. Instead we submit the `watson_options` as the set of parameters, which is itself semi-structured.\n",
        "\n",
        "In terms of natural language processing, we will examine a couple of capabilities of the API. First, you will see that there is the capability of \"normalizing\" each entity, so that two different ways of saying the same thing get mapped to the same entity. So for example, \"President Trump\" and \"Donald Trump\" get mapped to the same Knowledge Graph entity."
      ]
    },
    {
      "cell_type": "code",
      "metadata": {
        "id": "S7MIA3sGg78-"
      },
      "source": [
        "import requests\n",
        "import json\n",
        "\n",
        "def processURL(url_to_analyze):\n",
        "    endpoint_watson = f\"{URL}/v1/analyze\"\n",
        "    params = {\n",
        "        'version': '2020-08-01',\n",
        "    }\n",
        "    headers = { \n",
        "        'Content-Type': 'application/json',\n",
        "    }\n",
        "    watson_options = {\n",
        "      \"url\": url_to_analyze,\n",
        "      \"features\": {\n",
        "        \"entities\": {\n",
        "          \"sentiment\": True,\n",
        "          \"emotion\": True,\n",
        "          \"limit\": 10\n",
        "        }\n",
        "      }\n",
        "    }\n",
        "    username = \"apikey\"\n",
        "    password = API_KEY\n",
        "\n",
        "    resp = requests.post(endpoint_watson, \n",
        "                         data=json.dumps(watson_options), \n",
        "                         headers=headers, \n",
        "                         params=params, \n",
        "                         auth=(username, password) \n",
        "                        )\n",
        "    return resp.json()"
      ],
      "execution_count": 24,
      "outputs": []
    },
    {
      "cell_type": "code",
      "metadata": {
        "id": "cCfu7Mp8g79F"
      },
      "source": [
        "url_to_analyze = 'https://www.reuters.com/technology/us-defended-amazon-after-article-showed-company-bypassed-indian-law-2021-05-21/'\n",
        "\n",
        "data = processURL(url_to_analyze)"
      ],
      "execution_count": 25,
      "outputs": []
    },
    {
      "cell_type": "code",
      "metadata": {
        "id": "4m1uBsl4M6WL",
        "outputId": "4666df80-abc6-4bb9-c072-fcb6c1f0f9d3",
        "colab": {
          "base_uri": "https://localhost:8080/"
        }
      },
      "source": [
        "data"
      ],
      "execution_count": 26,
      "outputs": [
        {
          "output_type": "execute_result",
          "data": {
            "text/plain": [
              "{'entities': [{'confidence': 1,\n",
              "   'count': 14,\n",
              "   'disambiguation': {'dbpedia_resource': 'http://dbpedia.org/resource/Reuters',\n",
              "    'name': 'Reuters'},\n",
              "   'emotion': {'anger': 0.118538,\n",
              "    'disgust': 0.142123,\n",
              "    'fear': 0.090705,\n",
              "    'joy': 0.185451,\n",
              "    'sadness': 0.52341},\n",
              "   'relevance': 0.960286,\n",
              "   'sentiment': {'label': 'negative', 'mixed': '1', 'score': -0.648653},\n",
              "   'text': 'Reuters',\n",
              "   'type': 'Company'},\n",
              "  {'confidence': 1,\n",
              "   'count': 21,\n",
              "   'disambiguation': {'dbpedia_resource': 'http://dbpedia.org/resource/Amazon.com',\n",
              "    'name': 'Amazon.com'},\n",
              "   'emotion': {'anger': 0.127601,\n",
              "    'disgust': 0.107367,\n",
              "    'fear': 0.075236,\n",
              "    'joy': 0.149825,\n",
              "    'sadness': 0.528366},\n",
              "   'relevance': 0.899384,\n",
              "   'sentiment': {'label': 'negative', 'mixed': '1', 'score': -0.488999},\n",
              "   'text': 'Amazon',\n",
              "   'type': 'Company'},\n",
              "  {'confidence': 1,\n",
              "   'count': 6,\n",
              "   'disambiguation': {'dbpedia_resource': 'http://dbpedia.org/resource/Office_of_the_United_States_Trade_Representative',\n",
              "    'name': 'Office_of_the_United_States_Trade_Representative'},\n",
              "   'emotion': {'anger': 0.12627,\n",
              "    'disgust': 0.130586,\n",
              "    'fear': 0.080373,\n",
              "    'joy': 0.214196,\n",
              "    'sadness': 0.146954},\n",
              "   'relevance': 0.886156,\n",
              "   'sentiment': {'label': 'negative', 'score': -0.668469},\n",
              "   'text': 'USTR',\n",
              "   'type': 'Organization'},\n",
              "  {'confidence': 1,\n",
              "   'count': 15,\n",
              "   'disambiguation': {'dbpedia_resource': 'http://dbpedia.org/resource/India',\n",
              "    'name': 'India',\n",
              "    'subtype': ['HumanLanguage',\n",
              "     'Region',\n",
              "     'Country',\n",
              "     'GovernmentalJurisdiction',\n",
              "     'FilmEditor']},\n",
              "   'emotion': {'anger': 0.121049,\n",
              "    'disgust': 0.127931,\n",
              "    'fear': 0.081817,\n",
              "    'joy': 0.165026,\n",
              "    'sadness': 0.520122},\n",
              "   'relevance': 0.758433,\n",
              "   'sentiment': {'label': 'negative', 'mixed': '1', 'score': -0.653719},\n",
              "   'text': 'India',\n",
              "   'type': 'Location'},\n",
              "  {'confidence': 1,\n",
              "   'count': 11,\n",
              "   'disambiguation': {'dbpedia_resource': 'http://dbpedia.org/resource/United_States',\n",
              "    'name': 'United_States',\n",
              "    'subtype': ['Region',\n",
              "     'AdministrativeDivision',\n",
              "     'Country',\n",
              "     'GovernmentalJurisdiction',\n",
              "     'FilmEditor']},\n",
              "   'emotion': {'anger': 0.123109,\n",
              "    'disgust': 0.124767,\n",
              "    'fear': 0.093509,\n",
              "    'joy': 0.171299,\n",
              "    'sadness': 0.522817},\n",
              "   'relevance': 0.692772,\n",
              "   'sentiment': {'label': 'negative', 'mixed': '1', 'score': -0.543674},\n",
              "   'text': 'U.S.',\n",
              "   'type': 'Location'},\n",
              "  {'confidence': 0.911763,\n",
              "   'count': 2,\n",
              "   'emotion': {'anger': 0.086842,\n",
              "    'disgust': 0.170868,\n",
              "    'fear': 0.05394,\n",
              "    'joy': 0.271568,\n",
              "    'sadness': 0.321459},\n",
              "   'relevance': 0.544092,\n",
              "   'sentiment': {'label': 'negative', 'score': -0.562406},\n",
              "   'text': 'U.S. embassy',\n",
              "   'type': 'Organization'},\n",
              "  {'confidence': 1.0,\n",
              "   'count': 6,\n",
              "   'emotion': {'anger': 0.106676,\n",
              "    'disgust': 0.164208,\n",
              "    'fear': 0.097944,\n",
              "    'joy': 0.191568,\n",
              "    'sadness': 0.221768},\n",
              "   'relevance': 0.529728,\n",
              "   'sentiment': {'label': 'negative', 'score': -0.768336},\n",
              "   'text': 'Kerry',\n",
              "   'type': 'Person'},\n",
              "  {'confidence': 0.996902,\n",
              "   'count': 4,\n",
              "   'emotion': {'anger': 0.160644,\n",
              "    'disgust': 0.132963,\n",
              "    'fear': 0.044168,\n",
              "    'joy': 0.053873,\n",
              "    'sadness': 0.231586},\n",
              "   'relevance': 0.367866,\n",
              "   'sentiment': {'label': 'neutral', 'score': 0},\n",
              "   'text': 'CCI',\n",
              "   'type': 'Organization'},\n",
              "  {'confidence': 0.973075,\n",
              "   'count': 2,\n",
              "   'emotion': {'anger': 0.117411,\n",
              "    'disgust': 0.391671,\n",
              "    'fear': 0.069583,\n",
              "    'joy': 0.09589,\n",
              "    'sadness': 0.286689},\n",
              "   'relevance': 0.351436,\n",
              "   'sentiment': {'label': 'negative', 'score': -0.768073},\n",
              "   'text': 'Goyal',\n",
              "   'type': 'Person'},\n",
              "  {'confidence': 0.56207,\n",
              "   'count': 1,\n",
              "   'emotion': {'anger': 0.23794,\n",
              "    'disgust': 0.134322,\n",
              "    'fear': 0.101406,\n",
              "    'joy': 0.306054,\n",
              "    'sadness': 0.101353},\n",
              "   'relevance': 0.34825,\n",
              "   'sentiment': {'label': 'negative', 'score': -0.591469},\n",
              "   'text': 'President Joe Biden',\n",
              "   'type': 'Person'}],\n",
              " 'language': 'en',\n",
              " 'retrieved_url': 'https://www.reuters.com/technology/us-defended-amazon-after-article-showed-company-bypassed-indian-law-2021-05-21/',\n",
              " 'usage': {'features': 1, 'text_characters': 5727, 'text_units': 1}}"
            ]
          },
          "metadata": {
            "tags": []
          },
          "execution_count": 26
        }
      ]
    },
    {
      "cell_type": "code",
      "metadata": {
        "id": "TXcFMzpSg79L",
        "outputId": "76109ff6-b5bf-4a2d-d0ab-670548926e48",
        "colab": {
          "base_uri": "https://localhost:8080/"
        }
      },
      "source": [
        "# Let's see what we get back as top-level attributes\n",
        "data.keys()"
      ],
      "execution_count": 27,
      "outputs": [
        {
          "output_type": "execute_result",
          "data": {
            "text/plain": [
              "dict_keys(['usage', 'retrieved_url', 'language', 'entities'])"
            ]
          },
          "metadata": {
            "tags": []
          },
          "execution_count": 27
        }
      ]
    },
    {
      "cell_type": "code",
      "metadata": {
        "scrolled": true,
        "id": "V0VyAAtSg79T",
        "outputId": "d5bee51b-3b54-40cb-d31d-5ff4765703dd",
        "colab": {
          "base_uri": "https://localhost:8080/"
        }
      },
      "source": [
        "# Let' see the entities list\n",
        "data[\"entities\"]"
      ],
      "execution_count": 28,
      "outputs": [
        {
          "output_type": "execute_result",
          "data": {
            "text/plain": [
              "[{'confidence': 1,\n",
              "  'count': 14,\n",
              "  'disambiguation': {'dbpedia_resource': 'http://dbpedia.org/resource/Reuters',\n",
              "   'name': 'Reuters'},\n",
              "  'emotion': {'anger': 0.118538,\n",
              "   'disgust': 0.142123,\n",
              "   'fear': 0.090705,\n",
              "   'joy': 0.185451,\n",
              "   'sadness': 0.52341},\n",
              "  'relevance': 0.960286,\n",
              "  'sentiment': {'label': 'negative', 'mixed': '1', 'score': -0.648653},\n",
              "  'text': 'Reuters',\n",
              "  'type': 'Company'},\n",
              " {'confidence': 1,\n",
              "  'count': 21,\n",
              "  'disambiguation': {'dbpedia_resource': 'http://dbpedia.org/resource/Amazon.com',\n",
              "   'name': 'Amazon.com'},\n",
              "  'emotion': {'anger': 0.127601,\n",
              "   'disgust': 0.107367,\n",
              "   'fear': 0.075236,\n",
              "   'joy': 0.149825,\n",
              "   'sadness': 0.528366},\n",
              "  'relevance': 0.899384,\n",
              "  'sentiment': {'label': 'negative', 'mixed': '1', 'score': -0.488999},\n",
              "  'text': 'Amazon',\n",
              "  'type': 'Company'},\n",
              " {'confidence': 1,\n",
              "  'count': 6,\n",
              "  'disambiguation': {'dbpedia_resource': 'http://dbpedia.org/resource/Office_of_the_United_States_Trade_Representative',\n",
              "   'name': 'Office_of_the_United_States_Trade_Representative'},\n",
              "  'emotion': {'anger': 0.12627,\n",
              "   'disgust': 0.130586,\n",
              "   'fear': 0.080373,\n",
              "   'joy': 0.214196,\n",
              "   'sadness': 0.146954},\n",
              "  'relevance': 0.886156,\n",
              "  'sentiment': {'label': 'negative', 'score': -0.668469},\n",
              "  'text': 'USTR',\n",
              "  'type': 'Organization'},\n",
              " {'confidence': 1,\n",
              "  'count': 15,\n",
              "  'disambiguation': {'dbpedia_resource': 'http://dbpedia.org/resource/India',\n",
              "   'name': 'India',\n",
              "   'subtype': ['HumanLanguage',\n",
              "    'Region',\n",
              "    'Country',\n",
              "    'GovernmentalJurisdiction',\n",
              "    'FilmEditor']},\n",
              "  'emotion': {'anger': 0.121049,\n",
              "   'disgust': 0.127931,\n",
              "   'fear': 0.081817,\n",
              "   'joy': 0.165026,\n",
              "   'sadness': 0.520122},\n",
              "  'relevance': 0.758433,\n",
              "  'sentiment': {'label': 'negative', 'mixed': '1', 'score': -0.653719},\n",
              "  'text': 'India',\n",
              "  'type': 'Location'},\n",
              " {'confidence': 1,\n",
              "  'count': 11,\n",
              "  'disambiguation': {'dbpedia_resource': 'http://dbpedia.org/resource/United_States',\n",
              "   'name': 'United_States',\n",
              "   'subtype': ['Region',\n",
              "    'AdministrativeDivision',\n",
              "    'Country',\n",
              "    'GovernmentalJurisdiction',\n",
              "    'FilmEditor']},\n",
              "  'emotion': {'anger': 0.123109,\n",
              "   'disgust': 0.124767,\n",
              "   'fear': 0.093509,\n",
              "   'joy': 0.171299,\n",
              "   'sadness': 0.522817},\n",
              "  'relevance': 0.692772,\n",
              "  'sentiment': {'label': 'negative', 'mixed': '1', 'score': -0.543674},\n",
              "  'text': 'U.S.',\n",
              "  'type': 'Location'},\n",
              " {'confidence': 0.911763,\n",
              "  'count': 2,\n",
              "  'emotion': {'anger': 0.086842,\n",
              "   'disgust': 0.170868,\n",
              "   'fear': 0.05394,\n",
              "   'joy': 0.271568,\n",
              "   'sadness': 0.321459},\n",
              "  'relevance': 0.544092,\n",
              "  'sentiment': {'label': 'negative', 'score': -0.562406},\n",
              "  'text': 'U.S. embassy',\n",
              "  'type': 'Organization'},\n",
              " {'confidence': 1.0,\n",
              "  'count': 6,\n",
              "  'emotion': {'anger': 0.106676,\n",
              "   'disgust': 0.164208,\n",
              "   'fear': 0.097944,\n",
              "   'joy': 0.191568,\n",
              "   'sadness': 0.221768},\n",
              "  'relevance': 0.529728,\n",
              "  'sentiment': {'label': 'negative', 'score': -0.768336},\n",
              "  'text': 'Kerry',\n",
              "  'type': 'Person'},\n",
              " {'confidence': 0.996902,\n",
              "  'count': 4,\n",
              "  'emotion': {'anger': 0.160644,\n",
              "   'disgust': 0.132963,\n",
              "   'fear': 0.044168,\n",
              "   'joy': 0.053873,\n",
              "   'sadness': 0.231586},\n",
              "  'relevance': 0.367866,\n",
              "  'sentiment': {'label': 'neutral', 'score': 0},\n",
              "  'text': 'CCI',\n",
              "  'type': 'Organization'},\n",
              " {'confidence': 0.973075,\n",
              "  'count': 2,\n",
              "  'emotion': {'anger': 0.117411,\n",
              "   'disgust': 0.391671,\n",
              "   'fear': 0.069583,\n",
              "   'joy': 0.09589,\n",
              "   'sadness': 0.286689},\n",
              "  'relevance': 0.351436,\n",
              "  'sentiment': {'label': 'negative', 'score': -0.768073},\n",
              "  'text': 'Goyal',\n",
              "  'type': 'Person'},\n",
              " {'confidence': 0.56207,\n",
              "  'count': 1,\n",
              "  'emotion': {'anger': 0.23794,\n",
              "   'disgust': 0.134322,\n",
              "   'fear': 0.101406,\n",
              "   'joy': 0.306054,\n",
              "   'sadness': 0.101353},\n",
              "  'relevance': 0.34825,\n",
              "  'sentiment': {'label': 'negative', 'score': -0.591469},\n",
              "  'text': 'President Joe Biden',\n",
              "  'type': 'Person'}]"
            ]
          },
          "metadata": {
            "tags": []
          },
          "execution_count": 28
        }
      ]
    },
    {
      "cell_type": "code",
      "metadata": {
        "id": "8X5VaaqCg79X",
        "outputId": "65f1536f-aabf-45b5-a3b7-ad897e8153d4",
        "colab": {
          "base_uri": "https://localhost:8080/"
        }
      },
      "source": [
        "# Let' see the third entity. Notice the \"disambiguated\" attribute that\n",
        "# points to \"canonical\" versions of the entity, in DBPedia\n",
        "# Notice that USTR is the actual term used in the text\n",
        "data[\"entities\"][2]"
      ],
      "execution_count": 32,
      "outputs": [
        {
          "output_type": "execute_result",
          "data": {
            "text/plain": [
              "{'confidence': 1,\n",
              " 'count': 6,\n",
              " 'disambiguation': {'dbpedia_resource': 'http://dbpedia.org/resource/Office_of_the_United_States_Trade_Representative',\n",
              "  'name': 'Office_of_the_United_States_Trade_Representative'},\n",
              " 'emotion': {'anger': 0.12627,\n",
              "  'disgust': 0.130586,\n",
              "  'fear': 0.080373,\n",
              "  'joy': 0.214196,\n",
              "  'sadness': 0.146954},\n",
              " 'relevance': 0.886156,\n",
              " 'sentiment': {'label': 'negative', 'score': -0.668469},\n",
              " 'text': 'USTR',\n",
              " 'type': 'Organization'}"
            ]
          },
          "metadata": {
            "tags": []
          },
          "execution_count": 32
        }
      ]
    },
    {
      "cell_type": "code",
      "metadata": {
        "id": "9KNrCcFRhxUk",
        "outputId": "a469be32-d3cd-40e2-c59b-3c469250c7fa",
        "colab": {
          "base_uri": "https://localhost:8080/",
          "height": 481
        }
      },
      "source": [
        "import pandas as pd\n",
        "pd.json_normalize(data[\"entities\"])"
      ],
      "execution_count": 33,
      "outputs": [
        {
          "output_type": "execute_result",
          "data": {
            "text/html": [
              "<div>\n",
              "<style scoped>\n",
              "    .dataframe tbody tr th:only-of-type {\n",
              "        vertical-align: middle;\n",
              "    }\n",
              "\n",
              "    .dataframe tbody tr th {\n",
              "        vertical-align: top;\n",
              "    }\n",
              "\n",
              "    .dataframe thead th {\n",
              "        text-align: right;\n",
              "    }\n",
              "</style>\n",
              "<table border=\"1\" class=\"dataframe\">\n",
              "  <thead>\n",
              "    <tr style=\"text-align: right;\">\n",
              "      <th></th>\n",
              "      <th>type</th>\n",
              "      <th>text</th>\n",
              "      <th>relevance</th>\n",
              "      <th>count</th>\n",
              "      <th>confidence</th>\n",
              "      <th>sentiment.score</th>\n",
              "      <th>sentiment.mixed</th>\n",
              "      <th>sentiment.label</th>\n",
              "      <th>emotion.sadness</th>\n",
              "      <th>emotion.joy</th>\n",
              "      <th>emotion.fear</th>\n",
              "      <th>emotion.disgust</th>\n",
              "      <th>emotion.anger</th>\n",
              "      <th>disambiguation.name</th>\n",
              "      <th>disambiguation.dbpedia_resource</th>\n",
              "      <th>disambiguation.subtype</th>\n",
              "    </tr>\n",
              "  </thead>\n",
              "  <tbody>\n",
              "    <tr>\n",
              "      <th>0</th>\n",
              "      <td>Company</td>\n",
              "      <td>Reuters</td>\n",
              "      <td>0.960286</td>\n",
              "      <td>14</td>\n",
              "      <td>1.000000</td>\n",
              "      <td>-0.648653</td>\n",
              "      <td>1</td>\n",
              "      <td>negative</td>\n",
              "      <td>0.523410</td>\n",
              "      <td>0.185451</td>\n",
              "      <td>0.090705</td>\n",
              "      <td>0.142123</td>\n",
              "      <td>0.118538</td>\n",
              "      <td>Reuters</td>\n",
              "      <td>http://dbpedia.org/resource/Reuters</td>\n",
              "      <td>NaN</td>\n",
              "    </tr>\n",
              "    <tr>\n",
              "      <th>1</th>\n",
              "      <td>Company</td>\n",
              "      <td>Amazon</td>\n",
              "      <td>0.899384</td>\n",
              "      <td>21</td>\n",
              "      <td>1.000000</td>\n",
              "      <td>-0.488999</td>\n",
              "      <td>1</td>\n",
              "      <td>negative</td>\n",
              "      <td>0.528366</td>\n",
              "      <td>0.149825</td>\n",
              "      <td>0.075236</td>\n",
              "      <td>0.107367</td>\n",
              "      <td>0.127601</td>\n",
              "      <td>Amazon.com</td>\n",
              "      <td>http://dbpedia.org/resource/Amazon.com</td>\n",
              "      <td>NaN</td>\n",
              "    </tr>\n",
              "    <tr>\n",
              "      <th>2</th>\n",
              "      <td>Organization</td>\n",
              "      <td>USTR</td>\n",
              "      <td>0.886156</td>\n",
              "      <td>6</td>\n",
              "      <td>1.000000</td>\n",
              "      <td>-0.668469</td>\n",
              "      <td>NaN</td>\n",
              "      <td>negative</td>\n",
              "      <td>0.146954</td>\n",
              "      <td>0.214196</td>\n",
              "      <td>0.080373</td>\n",
              "      <td>0.130586</td>\n",
              "      <td>0.126270</td>\n",
              "      <td>Office_of_the_United_States_Trade_Representative</td>\n",
              "      <td>http://dbpedia.org/resource/Office_of_the_Unit...</td>\n",
              "      <td>NaN</td>\n",
              "    </tr>\n",
              "    <tr>\n",
              "      <th>3</th>\n",
              "      <td>Location</td>\n",
              "      <td>India</td>\n",
              "      <td>0.758433</td>\n",
              "      <td>15</td>\n",
              "      <td>1.000000</td>\n",
              "      <td>-0.653719</td>\n",
              "      <td>1</td>\n",
              "      <td>negative</td>\n",
              "      <td>0.520122</td>\n",
              "      <td>0.165026</td>\n",
              "      <td>0.081817</td>\n",
              "      <td>0.127931</td>\n",
              "      <td>0.121049</td>\n",
              "      <td>India</td>\n",
              "      <td>http://dbpedia.org/resource/India</td>\n",
              "      <td>[HumanLanguage, Region, Country, GovernmentalJ...</td>\n",
              "    </tr>\n",
              "    <tr>\n",
              "      <th>4</th>\n",
              "      <td>Location</td>\n",
              "      <td>U.S.</td>\n",
              "      <td>0.692772</td>\n",
              "      <td>11</td>\n",
              "      <td>1.000000</td>\n",
              "      <td>-0.543674</td>\n",
              "      <td>1</td>\n",
              "      <td>negative</td>\n",
              "      <td>0.522817</td>\n",
              "      <td>0.171299</td>\n",
              "      <td>0.093509</td>\n",
              "      <td>0.124767</td>\n",
              "      <td>0.123109</td>\n",
              "      <td>United_States</td>\n",
              "      <td>http://dbpedia.org/resource/United_States</td>\n",
              "      <td>[Region, AdministrativeDivision, Country, Gove...</td>\n",
              "    </tr>\n",
              "    <tr>\n",
              "      <th>5</th>\n",
              "      <td>Organization</td>\n",
              "      <td>U.S. embassy</td>\n",
              "      <td>0.544092</td>\n",
              "      <td>2</td>\n",
              "      <td>0.911763</td>\n",
              "      <td>-0.562406</td>\n",
              "      <td>NaN</td>\n",
              "      <td>negative</td>\n",
              "      <td>0.321459</td>\n",
              "      <td>0.271568</td>\n",
              "      <td>0.053940</td>\n",
              "      <td>0.170868</td>\n",
              "      <td>0.086842</td>\n",
              "      <td>NaN</td>\n",
              "      <td>NaN</td>\n",
              "      <td>NaN</td>\n",
              "    </tr>\n",
              "    <tr>\n",
              "      <th>6</th>\n",
              "      <td>Person</td>\n",
              "      <td>Kerry</td>\n",
              "      <td>0.529728</td>\n",
              "      <td>6</td>\n",
              "      <td>1.000000</td>\n",
              "      <td>-0.768336</td>\n",
              "      <td>NaN</td>\n",
              "      <td>negative</td>\n",
              "      <td>0.221768</td>\n",
              "      <td>0.191568</td>\n",
              "      <td>0.097944</td>\n",
              "      <td>0.164208</td>\n",
              "      <td>0.106676</td>\n",
              "      <td>NaN</td>\n",
              "      <td>NaN</td>\n",
              "      <td>NaN</td>\n",
              "    </tr>\n",
              "    <tr>\n",
              "      <th>7</th>\n",
              "      <td>Organization</td>\n",
              "      <td>CCI</td>\n",
              "      <td>0.367866</td>\n",
              "      <td>4</td>\n",
              "      <td>0.996902</td>\n",
              "      <td>0.000000</td>\n",
              "      <td>NaN</td>\n",
              "      <td>neutral</td>\n",
              "      <td>0.231586</td>\n",
              "      <td>0.053873</td>\n",
              "      <td>0.044168</td>\n",
              "      <td>0.132963</td>\n",
              "      <td>0.160644</td>\n",
              "      <td>NaN</td>\n",
              "      <td>NaN</td>\n",
              "      <td>NaN</td>\n",
              "    </tr>\n",
              "    <tr>\n",
              "      <th>8</th>\n",
              "      <td>Person</td>\n",
              "      <td>Goyal</td>\n",
              "      <td>0.351436</td>\n",
              "      <td>2</td>\n",
              "      <td>0.973075</td>\n",
              "      <td>-0.768073</td>\n",
              "      <td>NaN</td>\n",
              "      <td>negative</td>\n",
              "      <td>0.286689</td>\n",
              "      <td>0.095890</td>\n",
              "      <td>0.069583</td>\n",
              "      <td>0.391671</td>\n",
              "      <td>0.117411</td>\n",
              "      <td>NaN</td>\n",
              "      <td>NaN</td>\n",
              "      <td>NaN</td>\n",
              "    </tr>\n",
              "    <tr>\n",
              "      <th>9</th>\n",
              "      <td>Person</td>\n",
              "      <td>President Joe Biden</td>\n",
              "      <td>0.348250</td>\n",
              "      <td>1</td>\n",
              "      <td>0.562070</td>\n",
              "      <td>-0.591469</td>\n",
              "      <td>NaN</td>\n",
              "      <td>negative</td>\n",
              "      <td>0.101353</td>\n",
              "      <td>0.306054</td>\n",
              "      <td>0.101406</td>\n",
              "      <td>0.134322</td>\n",
              "      <td>0.237940</td>\n",
              "      <td>NaN</td>\n",
              "      <td>NaN</td>\n",
              "      <td>NaN</td>\n",
              "    </tr>\n",
              "  </tbody>\n",
              "</table>\n",
              "</div>"
            ],
            "text/plain": [
              "           type  ...                             disambiguation.subtype\n",
              "0       Company  ...                                                NaN\n",
              "1       Company  ...                                                NaN\n",
              "2  Organization  ...                                                NaN\n",
              "3      Location  ...  [HumanLanguage, Region, Country, GovernmentalJ...\n",
              "4      Location  ...  [Region, AdministrativeDivision, Country, Gove...\n",
              "5  Organization  ...                                                NaN\n",
              "6        Person  ...                                                NaN\n",
              "7  Organization  ...                                                NaN\n",
              "8        Person  ...                                                NaN\n",
              "9        Person  ...                                                NaN\n",
              "\n",
              "[10 rows x 16 columns]"
            ]
          },
          "metadata": {
            "tags": []
          },
          "execution_count": 33
        }
      ]
    },
    {
      "cell_type": "code",
      "metadata": {
        "id": "BZxo1zEkiOI_",
        "outputId": "7abdbae8-d599-4180-f790-126b93e8e970",
        "colab": {
          "base_uri": "https://localhost:8080/",
          "height": 282
        }
      },
      "source": [
        "pd.json_normalize(data[\"entities\"])['sentiment.score'].hist(bins=50)"
      ],
      "execution_count": 40,
      "outputs": [
        {
          "output_type": "execute_result",
          "data": {
            "text/plain": [
              "<matplotlib.axes._subplots.AxesSubplot at 0x7f47898d58d0>"
            ]
          },
          "metadata": {
            "tags": []
          },
          "execution_count": 40
        },
        {
          "output_type": "display_data",
          "data": {
            "image/png": "[encoded data removed]",
            "text/plain": [
              "<Figure size 432x288 with 1 Axes>"
            ]
          },
          "metadata": {
            "tags": [],
            "needs_background": "light"
          }
        }
      ]
    },
    {
      "cell_type": "code",
      "metadata": {
        "id": "aPFZAVPFiGoL"
      },
      "source": [
        "entity_table = pd.json_normalize(data[\"entities\"])"
      ],
      "execution_count": 34,
      "outputs": []
    },
    {
      "cell_type": "code",
      "metadata": {
        "id": "cYooxXTfiKwD",
        "outputId": "cb386ad4-7484-4ec4-94d6-ae378b42a496",
        "colab": {
          "base_uri": "https://localhost:8080/",
          "height": 481
        }
      },
      "source": [
        "entity_table"
      ],
      "execution_count": 36,
      "outputs": [
        {
          "output_type": "execute_result",
          "data": {
            "text/html": [
              "<div>\n",
              "<style scoped>\n",
              "    .dataframe tbody tr th:only-of-type {\n",
              "        vertical-align: middle;\n",
              "    }\n",
              "\n",
              "    .dataframe tbody tr th {\n",
              "        vertical-align: top;\n",
              "    }\n",
              "\n",
              "    .dataframe thead th {\n",
              "        text-align: right;\n",
              "    }\n",
              "</style>\n",
              "<table border=\"1\" class=\"dataframe\">\n",
              "  <thead>\n",
              "    <tr style=\"text-align: right;\">\n",
              "      <th></th>\n",
              "      <th>type</th>\n",
              "      <th>text</th>\n",
              "      <th>relevance</th>\n",
              "      <th>count</th>\n",
              "      <th>confidence</th>\n",
              "      <th>sentiment.score</th>\n",
              "      <th>sentiment.mixed</th>\n",
              "      <th>sentiment.label</th>\n",
              "      <th>emotion.sadness</th>\n",
              "      <th>emotion.joy</th>\n",
              "      <th>emotion.fear</th>\n",
              "      <th>emotion.disgust</th>\n",
              "      <th>emotion.anger</th>\n",
              "      <th>disambiguation.name</th>\n",
              "      <th>disambiguation.dbpedia_resource</th>\n",
              "      <th>disambiguation.subtype</th>\n",
              "    </tr>\n",
              "  </thead>\n",
              "  <tbody>\n",
              "    <tr>\n",
              "      <th>0</th>\n",
              "      <td>Company</td>\n",
              "      <td>Reuters</td>\n",
              "      <td>0.960286</td>\n",
              "      <td>14</td>\n",
              "      <td>1.000000</td>\n",
              "      <td>-0.648653</td>\n",
              "      <td>1</td>\n",
              "      <td>negative</td>\n",
              "      <td>0.523410</td>\n",
              "      <td>0.185451</td>\n",
              "      <td>0.090705</td>\n",
              "      <td>0.142123</td>\n",
              "      <td>0.118538</td>\n",
              "      <td>Reuters</td>\n",
              "      <td>http://dbpedia.org/resource/Reuters</td>\n",
              "      <td>NaN</td>\n",
              "    </tr>\n",
              "    <tr>\n",
              "      <th>1</th>\n",
              "      <td>Company</td>\n",
              "      <td>Amazon</td>\n",
              "      <td>0.899384</td>\n",
              "      <td>21</td>\n",
              "      <td>1.000000</td>\n",
              "      <td>-0.488999</td>\n",
              "      <td>1</td>\n",
              "      <td>negative</td>\n",
              "      <td>0.528366</td>\n",
              "      <td>0.149825</td>\n",
              "      <td>0.075236</td>\n",
              "      <td>0.107367</td>\n",
              "      <td>0.127601</td>\n",
              "      <td>Amazon.com</td>\n",
              "      <td>http://dbpedia.org/resource/Amazon.com</td>\n",
              "      <td>NaN</td>\n",
              "    </tr>\n",
              "    <tr>\n",
              "      <th>2</th>\n",
              "      <td>Organization</td>\n",
              "      <td>USTR</td>\n",
              "      <td>0.886156</td>\n",
              "      <td>6</td>\n",
              "      <td>1.000000</td>\n",
              "      <td>-0.668469</td>\n",
              "      <td>NaN</td>\n",
              "      <td>negative</td>\n",
              "      <td>0.146954</td>\n",
              "      <td>0.214196</td>\n",
              "      <td>0.080373</td>\n",
              "      <td>0.130586</td>\n",
              "      <td>0.126270</td>\n",
              "      <td>Office_of_the_United_States_Trade_Representative</td>\n",
              "      <td>http://dbpedia.org/resource/Office_of_the_Unit...</td>\n",
              "      <td>NaN</td>\n",
              "    </tr>\n",
              "    <tr>\n",
              "      <th>3</th>\n",
              "      <td>Location</td>\n",
              "      <td>India</td>\n",
              "      <td>0.758433</td>\n",
              "      <td>15</td>\n",
              "      <td>1.000000</td>\n",
              "      <td>-0.653719</td>\n",
              "      <td>1</td>\n",
              "      <td>negative</td>\n",
              "      <td>0.520122</td>\n",
              "      <td>0.165026</td>\n",
              "      <td>0.081817</td>\n",
              "      <td>0.127931</td>\n",
              "      <td>0.121049</td>\n",
              "      <td>India</td>\n",
              "      <td>http://dbpedia.org/resource/India</td>\n",
              "      <td>[HumanLanguage, Region, Country, GovernmentalJ...</td>\n",
              "    </tr>\n",
              "    <tr>\n",
              "      <th>4</th>\n",
              "      <td>Location</td>\n",
              "      <td>U.S.</td>\n",
              "      <td>0.692772</td>\n",
              "      <td>11</td>\n",
              "      <td>1.000000</td>\n",
              "      <td>-0.543674</td>\n",
              "      <td>1</td>\n",
              "      <td>negative</td>\n",
              "      <td>0.522817</td>\n",
              "      <td>0.171299</td>\n",
              "      <td>0.093509</td>\n",
              "      <td>0.124767</td>\n",
              "      <td>0.123109</td>\n",
              "      <td>United_States</td>\n",
              "      <td>http://dbpedia.org/resource/United_States</td>\n",
              "      <td>[Region, AdministrativeDivision, Country, Gove...</td>\n",
              "    </tr>\n",
              "    <tr>\n",
              "      <th>5</th>\n",
              "      <td>Organization</td>\n",
              "      <td>U.S. embassy</td>\n",
              "      <td>0.544092</td>\n",
              "      <td>2</td>\n",
              "      <td>0.911763</td>\n",
              "      <td>-0.562406</td>\n",
              "      <td>NaN</td>\n",
              "      <td>negative</td>\n",
              "      <td>0.321459</td>\n",
              "      <td>0.271568</td>\n",
              "      <td>0.053940</td>\n",
              "      <td>0.170868</td>\n",
              "      <td>0.086842</td>\n",
              "      <td>NaN</td>\n",
              "      <td>NaN</td>\n",
              "      <td>NaN</td>\n",
              "    </tr>\n",
              "    <tr>\n",
              "      <th>6</th>\n",
              "      <td>Person</td>\n",
              "      <td>Kerry</td>\n",
              "      <td>0.529728</td>\n",
              "      <td>6</td>\n",
              "      <td>1.000000</td>\n",
              "      <td>-0.768336</td>\n",
              "      <td>NaN</td>\n",
              "      <td>negative</td>\n",
              "      <td>0.221768</td>\n",
              "      <td>0.191568</td>\n",
              "      <td>0.097944</td>\n",
              "      <td>0.164208</td>\n",
              "      <td>0.106676</td>\n",
              "      <td>NaN</td>\n",
              "      <td>NaN</td>\n",
              "      <td>NaN</td>\n",
              "    </tr>\n",
              "    <tr>\n",
              "      <th>7</th>\n",
              "      <td>Organization</td>\n",
              "      <td>CCI</td>\n",
              "      <td>0.367866</td>\n",
              "      <td>4</td>\n",
              "      <td>0.996902</td>\n",
              "      <td>0.000000</td>\n",
              "      <td>NaN</td>\n",
              "      <td>neutral</td>\n",
              "      <td>0.231586</td>\n",
              "      <td>0.053873</td>\n",
              "      <td>0.044168</td>\n",
              "      <td>0.132963</td>\n",
              "      <td>0.160644</td>\n",
              "      <td>NaN</td>\n",
              "      <td>NaN</td>\n",
              "      <td>NaN</td>\n",
              "    </tr>\n",
              "    <tr>\n",
              "      <th>8</th>\n",
              "      <td>Person</td>\n",
              "      <td>Goyal</td>\n",
              "      <td>0.351436</td>\n",
              "      <td>2</td>\n",
              "      <td>0.973075</td>\n",
              "      <td>-0.768073</td>\n",
              "      <td>NaN</td>\n",
              "      <td>negative</td>\n",
              "      <td>0.286689</td>\n",
              "      <td>0.095890</td>\n",
              "      <td>0.069583</td>\n",
              "      <td>0.391671</td>\n",
              "      <td>0.117411</td>\n",
              "      <td>NaN</td>\n",
              "      <td>NaN</td>\n",
              "      <td>NaN</td>\n",
              "    </tr>\n",
              "    <tr>\n",
              "      <th>9</th>\n",
              "      <td>Person</td>\n",
              "      <td>President Joe Biden</td>\n",
              "      <td>0.348250</td>\n",
              "      <td>1</td>\n",
              "      <td>0.562070</td>\n",
              "      <td>-0.591469</td>\n",
              "      <td>NaN</td>\n",
              "      <td>negative</td>\n",
              "      <td>0.101353</td>\n",
              "      <td>0.306054</td>\n",
              "      <td>0.101406</td>\n",
              "      <td>0.134322</td>\n",
              "      <td>0.237940</td>\n",
              "      <td>NaN</td>\n",
              "      <td>NaN</td>\n",
              "      <td>NaN</td>\n",
              "    </tr>\n",
              "  </tbody>\n",
              "</table>\n",
              "</div>"
            ],
            "text/plain": [
              "           type  ...                             disambiguation.subtype\n",
              "0       Company  ...                                                NaN\n",
              "1       Company  ...                                                NaN\n",
              "2  Organization  ...                                                NaN\n",
              "3      Location  ...  [HumanLanguage, Region, Country, GovernmentalJ...\n",
              "4      Location  ...  [Region, AdministrativeDivision, Country, Gove...\n",
              "5  Organization  ...                                                NaN\n",
              "6        Person  ...                                                NaN\n",
              "7  Organization  ...                                                NaN\n",
              "8        Person  ...                                                NaN\n",
              "9        Person  ...                                                NaN\n",
              "\n",
              "[10 rows x 16 columns]"
            ]
          },
          "metadata": {
            "tags": []
          },
          "execution_count": 36
        }
      ]
    },
    {
      "cell_type": "code",
      "metadata": {
        "id": "vqm1dcxLg79f"
      },
      "source": [
        "# This function takes as input the result\n",
        "# from the IBM Watson API and returns a list\n",
        "# of entities that are relevant (above threshold)\n",
        "# to the article\n",
        "def getEntities(data, threshold):\n",
        "    result = []\n",
        "    for entity in data[\"entities\"]:\n",
        "        relevance = float(entity['relevance'])\n",
        "        if relevance > threshold:\n",
        "            result.append(entity['text'])\n",
        "    return result\n",
        "\n",
        "getEntities(data, 0.25)"
      ],
      "execution_count": null,
      "outputs": []
    },
    {
      "cell_type": "markdown",
      "metadata": {
        "collapsed": true,
        "id": "PVct5ns8g79m"
      },
      "source": [
        "### Exercise\n",
        "\n",
        "* First of all, **get your own credentials for the IBM Watson API**. The demo key that we use above has a limited quota.\n",
        "* Use an API to get news articles. \n",
        "    * Option 1: Use the API at https://newsapi.org to fetch the news from various sources. Print the entities that are currently being discussed in the news, together with their relevance value and the associated sentiment.\n",
        "    * Option 2: Use the NY Times API to fetch the Top Stories News. You can register and get an API key at https://developer.nytimes.com/. The `Top Stories V2 API` provides the details of the news of the day: (The API call documentation is at https://developer.nytimes.com/docs/top-stories-product/1/overview and the API Call is  https://api.nytimes.com/svc/topstories/v2/home.json?api-key=PUTYOURKEYHERE). Repeat the entity extraction process from above.\n",
        "    * Option 3: Use the Guardian API at https://open-platform.theguardian.com/documentation/ to fetch news from The Guardian.\n"
      ]
    },
    {
      "cell_type": "markdown",
      "metadata": {
        "id": "e7IVH48-jZxS"
      },
      "source": [
        "get the news, get the sentiment analysis, and get the sentiment analysis. you can copy paste from news notebook (code to give back the news) and fore ach article write the loop to send to ibm and keep results and the ibm watson (need api key and the get sentiment\n",
        ")"
      ]
    },
    {
      "cell_type": "code",
      "metadata": {
        "id": "ZeuxdbqHnT3D"
      },
      "source": [
        "import requests\n",
        "newsapi_key = '1dd3e90294f944c98f653a218f3a8ff4'\n",
        "endpoint = 'https://newsapi.org/v2/top-headlines'\n",
        "parameters = {\n",
        "    'country' : 'us',\n",
        "    'category' : 'business',\n",
        "    'apiKey' : newsapi_key,\n",
        "    'pageSize' : 100\n",
        "}\n",
        "resp = requests.get(endpoint, params=parameters)\n",
        "news = resp.json()"
      ],
      "execution_count": 57,
      "outputs": []
    },
    {
      "cell_type": "code",
      "metadata": {
        "id": "t4a8wa-znVOU"
      },
      "source": [
        "API_KEY = 'yx39wyiwPNGm7DoDUPCSJB4SzFkr0qurARfbGYyEdaoC'\n",
        "URL = 'https://api.us-south.natural-language-understanding.watson.cloud.ibm.com/instances/9e683088-0d12-4399-8118-518f3e60e8c4'\n",
        "def getSentiment(text):\n",
        "    endpoint = f\"{URL}/v1/analyze\"\n",
        "    username = \"apikey\"\n",
        "    password = API_KEY\n",
        "    parameters = {\n",
        "        'features': 'emotion,sentiment',\n",
        "        'version' : '2020-08-01',\n",
        "        'text': text,\n",
        "        'language' : 'en',\n",
        "        # url = url_to_analyze, this is an alternative to sending the text\n",
        "    }\n",
        "    resp = requests.get(endpoint, params=parameters, auth=(username, password))\n",
        "    return resp.json()"
      ],
      "execution_count": null,
      "outputs": []
    },
    {
      "cell_type": "markdown",
      "metadata": {
        "id": "r7ZopzkzncbD"
      },
      "source": [
        "# If you prefer to analyze a URL instead of text\n",
        "def getSentiment_url(url_to_analyze):\n",
        "    endpoint = f\"{URL}/v1/analyze\"\n",
        "    username = \"apikey\"\n",
        "    password = API_KEY\n",
        "    parameters = {\n",
        "        'features': 'emotion,sentiment',\n",
        "        'version' : '2020-08-01',\n",
        "        #'text': text,\n",
        "        'language' : 'en',\n",
        "        'url': url_to_analyze # this is an alternative to sending the text\n",
        "    }\n",
        "    resp = requests.get(endpoint, params=parameters, auth=(username, password))\n",
        "    return resp.json()"
      ]
    },
    {
      "cell_type": "code",
      "metadata": {
        "id": "dNNEWeX8ngSG",
        "outputId": "af85ed2e-c693-4103-d735-e9e438b48a60",
        "colab": {
          "base_uri": "https://localhost:8080/"
        }
      },
      "source": [
        "import pandas as pd\n",
        "results=[]\n",
        "for article in news['articles']:\n",
        "  title = article['title']\n",
        "  response = getSentiment(title)\n",
        "  sentiment = response['sentiment']['document']['score']\n",
        "  print(title)\n",
        "  print(sentiment)\n",
        "  print(\"=========\")\n",
        "  entry = {\n",
        "      \"text\": title,\n",
        "      \"sentiment\": sentiment\n",
        "  }\n",
        "  results.append(entry)"
      ],
      "execution_count": 60,
      "outputs": [
        {
          "output_type": "stream",
          "text": [
            "To stop the ransomware pandemic, start with the basics - The Economist\n",
            "-0.69179\n",
            "=========\n",
            "Lordstown Motors admits that electric truck orders aren't 'firm purchase commitments' - Yahoo Finance\n",
            "0\n",
            "=========\n",
            "Commodities from copper to corn tumble on China crackdown, rising dollar - CNBC\n",
            "-0.576957\n",
            "=========\n",
            "ETFs to turn to as Fed sets stock market up for rising interest rates; GameStop heads to IWF - MarketWatch\n",
            "-0.65138\n",
            "=========\n",
            "Financial advisors shrug off Fed's inflation, interest rate forecasts - CNBC\n",
            "-0.872142\n",
            "=========\n",
            "Five metros with the biggest home-price increases according to Redfin - Fox Business\n",
            "0\n",
            "=========\n",
            "Supreme Court says chocolate companies cannot be sued over child slavery on African cocoa farms - The Washington Post\n",
            "0\n",
            "=========\n",
            "It's your duty as an American to devour these 15 million extra Girl Scout cookies, goddamnit - The A.V. Club\n",
            "0.295702\n",
            "=========\n",
            "Mortgage rates shoot higher after Fed Chairman Powell's comments - CNBC\n",
            "0\n",
            "=========\n",
            "Area Ex-President Still Yelling About How Wind Turbines Will Kill Us All - Gizmodo\n",
            "-0.875441\n",
            "=========\n",
            "Ochsner Health to take over 7-hospital Mississippi-based provider in major Gulf Coast expansion - NOLA.com\n",
            "0\n",
            "=========\n",
            "Novartis experimental prostate cancer drug gets FDA breakthrough designation - Fox News\n",
            "0\n",
            "=========\n",
            "Traders may need to find a new game as Reddit momentum – excluding AMC – slows - CNBC\n",
            "0\n",
            "=========\n",
            "10 Best Undervalued Stocks to Buy Now - Yahoo Finance\n",
            "0.952947\n",
            "=========\n",
            "World Bank slams bitcoin, declines to help El Salvador’s cryptocurrency plan - Ars Technica\n",
            "0\n",
            "=========\n",
            "Joe Biden appoints Lina Khan to head the Federal Trade Commission - The Economist\n",
            "0\n",
            "=========\n",
            "Ouch: Ryanair's New 197-Seat Boeing 737 MAX 8-200 - One Mile at a Time\n",
            "-0.680633\n",
            "=========\n",
            "Watch this brazen Walgreens shoplifter fill a garbage bag with stolen stuff and ride a bike out the door - Boing Boing\n",
            "-0.996668\n",
            "=========\n",
            "Dow Jones Falls As Fed Turns Hawkish; Tesla Stock Reverses, Adobe Earnings On Deck - Investor's Business Daily\n",
            "-0.571332\n",
            "=========\n",
            "Electric Vehicle Manufacturer Canoo To Bring 2,000 Jobs To Oklahoma - News On 6\n",
            "0\n",
            "=========\n",
            "Elon Musk questions assertions Bitcoin is sustainable - Fox Business\n",
            "0\n",
            "=========\n",
            "David Tepper: 'The stock market is still fine' after Fed announcements - CNBC Television\n",
            "0.436337\n",
            "=========\n",
            "Price's Chicken Coop closing after 59 years - WCNC.com\n",
            "0\n",
            "=========\n",
            "BMW starts European road tests of hydrogen fuel cell cars - CNBC\n",
            "0\n",
            "=========\n",
            "Beaumont and Spectrum Health plan to merge, forming Michigan's biggest health system - Detroit Free Press\n",
            "0\n",
            "=========\n",
            "Ford’s Bronco, F-150 Lightning behind profit outlook boost - Fox Business\n",
            "0\n",
            "=========\n",
            "Now Mazda Is Going Big On Electrified Cars, Too - Jalopnik\n",
            "-0.501918\n",
            "=========\n",
            "Best early Prime Day deals: Echo Buds $80, Kasa Smart Plug $7.50 and more - CNET\n",
            "0\n",
            "=========\n",
            "Royal Caribbean ship delays sail after crew tests positive for COVID l GMA - ABC News\n",
            "0\n",
            "=========\n",
            "Grant's Interest Rate Observer's Jim Grant on Fed's rate outlook - CNBC Television\n",
            "0\n",
            "=========\n",
            "Mattel announces Hot Wheels digital collectibles, joining NFT art boom - CNBC\n",
            "0\n",
            "=========\n",
            "Australia says AstraZeneca vaccine only for people 60 and older - Fox News\n",
            "0\n",
            "=========\n",
            "Crude oil prices steady near multi-year highs - Reuters\n",
            "-0.886091\n",
            "=========\n",
            "Historic shortage of homes for sale fueled by builders' supply chain woes - Yahoo Finance\n",
            "-0.632259\n",
            "=========\n",
            "Jobless claims show surprise increase to highest level in a month - NBC News\n",
            "-0.82675\n",
            "=========\n",
            "CureVac Stock Could Fall Even Further After Vaccine News - Barron's\n",
            "-0.757116\n",
            "=========\n",
            "See First Tesla Model S Plaid 1/4 Mile Race Video - InsideEVs \n",
            "0\n",
            "=========\n",
            "BREAKING: Danaher strikes deal to buy booming next-gen manufacturer Aldevron for $9.6B - Endpoints News\n",
            "0\n",
            "=========\n",
            "Google Selects 3rd Gen AMD EPYC™ Processors to Launch First Tau VM Instance - Yahoo Finance\n",
            "0\n",
            "=========\n",
            "Swiss National Bank chief says policy will stay the course despite uptick in inflation - CNBC\n",
            "0\n",
            "=========\n",
            "JPMorgan is buying UK robo-advisor Nutmeg to boost overseas retail banking expansion - CNBC\n",
            "0\n",
            "=========\n",
            "Furor rages over FDA approval of controversial Alzheimer’s drug - The Washington Post\n",
            "-0.583361\n",
            "=========\n",
            "Southwest among airlines, financial institutions hit by global internet outage - USA TODAY\n",
            "0\n",
            "=========\n",
            "Mark Cuban DeFi: Iron Finance Crashed 100% - Bloomberg\n",
            "0\n",
            "=========\n",
            "5 things to know before the stock market opens Thursday - CNBC\n",
            "0\n",
            "=========\n",
            "What Is Bitcoin ($BTC)? Much of UK Has Heard of It, Though Few Hold Crypto - Bloomberg\n",
            "0\n",
            "=========\n",
            "Bitcoin Holders Become Net Buyers for First Time Since October as 'Death Cross' Looms - CoinDesk - CoinDesk\n",
            "0\n",
            "=========\n",
            "Record-breaking heat wave puts strain on states' power grids - CBS News\n",
            "0\n",
            "=========\n",
            "Rick Klausner's crew of T cell specialists wraps $425M IPO, hitting Nasdaq alongside Verve, Molecular Partners - Endpoints News\n",
            "0\n",
            "=========\n",
            "Airbnb, Vrbo Battle for More Vacation Cabins as Travel Rebounds - The Wall Street Journal\n",
            "0\n",
            "=========\n",
            "Man found shot and died at the scene in Delray Beach, police say - WPTV.com\n",
            "-0.64549\n",
            "=========\n",
            "Microsoft appoints CEO Satya Nadella as chairman - Engadget\n",
            "0\n",
            "=========\n",
            "All Southwest Airlines flights are half off this fall - WJW FOX 8 News Cleveland\n",
            "-0.639256\n",
            "=========\n",
            "One of the world's largest diamonds has been unearthed in Botswana - CNN \n",
            "0\n",
            "=========\n",
            "TikTok Owner ByteDance’s Annual Revenue Jumps to $34.3 Billion - The Wall Street Journal\n",
            "0\n",
            "=========\n",
            "Cal ISO Issues a Statewide Flex Alert for Thursday as Temperatures Soar - NBC Southern California\n",
            "0\n",
            "=========\n",
            "China's market regulator reportedly launched antitrust probe into IPO-bound Didi - CNBC\n",
            "0\n",
            "=========\n",
            "Justice Department Sues to Block Aon Acquisition of Willis Towers Watson - The Wall Street Journal\n",
            "0\n",
            "=========\n",
            "The Trade Desk Stock Split Is Imminent; Here's What Investors Need to Know - The Motley Fool\n",
            "-0.662909\n",
            "=========\n",
            "How MacKenzie Scott's UIC, Kennedy-King donations will help low-income and 1st-generation college students - Chicago Tribune\n",
            "0\n",
            "=========\n",
            "\"Amazon and Metro Announce a $125 Million Commitment to Create 1000 Affordable Housing Units at Metro Stations in the Washington, D.C. Metropolitan Area\" - PoPville\n",
            "0\n",
            "=========\n",
            "Polestar 3 electric SUV to be built and sold in the US - Electrek.co\n",
            "0\n",
            "=========\n",
            "Video captures moment Florida utility company implodes 495-foot coal stack - NBC News\n",
            "0\n",
            "=========\n",
            "GM accelerates electric car investments, announces 2 new battery cell factories in the US - Electrek\n",
            "0\n",
            "=========\n",
            "UPDATE 2-US Buys 200 Mln More Moderna COVID-19 Vaccine Doses - Newsmax\n",
            "0\n",
            "=========\n",
            "Royal Caribbean updates its travel rules - FOX59 News\n",
            "0\n",
            "=========\n",
            "Will We Ever Get a RIDE in a Lordstown Endurance? - Transport Evolved\n",
            "0.697664\n",
            "=========\n",
            "ERCOT claims it’s a public agency immune from lawsuits, while also claiming it’s not a public entity required to release records - WFAA.com\n",
            "0\n",
            "=========\n",
            "Two malls involved in one bankruptcy, but that doesn't mean malls are leaving - KARE11.com\n",
            "-0.782001\n",
            "=========\n",
            "COVID and Flu Vaccines Play Nice Together - MedPage Today\n",
            "0.762852\n",
            "=========\n"
          ],
          "name": "stdout"
        }
      ]
    },
    {
      "cell_type": "code",
      "metadata": {
        "id": "gMYeokFmnsx7",
        "outputId": "a5b6c041-4c10-443d-a791-b8296dc8dcb0",
        "colab": {
          "base_uri": "https://localhost:8080/",
          "height": 282
        }
      },
      "source": [
        "df = pd.DataFrame(results)\n",
        "df[\"sentiment\"].hist(bins=20)"
      ],
      "execution_count": 61,
      "outputs": [
        {
          "output_type": "execute_result",
          "data": {
            "text/plain": [
              "<matplotlib.axes._subplots.AxesSubplot at 0x7f4788c23c10>"
            ]
          },
          "metadata": {
            "tags": []
          },
          "execution_count": 61
        },
        {
          "output_type": "display_data",
          "data": {
            "image/png": "[encoded data removed]",
            "text/plain": [
              "<Figure size 432x288 with 1 Axes>"
            ]
          },
          "metadata": {
            "tags": [],
            "needs_background": "light"
          }
        }
      ]
    }
  ]
}